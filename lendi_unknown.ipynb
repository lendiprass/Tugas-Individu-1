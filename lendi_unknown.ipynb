{
 "cells": [
  {
   "cell_type": "code",
   "execution_count": 67,
   "id": "0834c8c5-a4fc-4a01-a861-d357dfaa7f60",
   "metadata": {},
   "outputs": [],
   "source": [
    "#importing the required libraries\n",
    "import cv2\n",
    "import face_recognition"
   ]
  },
  {
   "cell_type": "code",
   "execution_count": 68,
   "id": "89246e3a-2b1e-44ca-b7f9-3b8ec8098800",
   "metadata": {},
   "outputs": [],
   "source": [
    "#loading the image to detect\n",
    "original_image = cv2.imread('keluarga.jpg')"
   ]
  },
  {
   "cell_type": "code",
   "execution_count": 69,
   "id": "2e39966c-1450-40dc-9a41-a91fb44550a5",
   "metadata": {},
   "outputs": [],
   "source": [
    "#load the sample images and get the 128 face embeddings from them\n",
    "lendi_image = face_recognition.load_image_file('lendi.jpg')\n",
    "lendi_face_encodings = face_recognition.face_encodings(lendi_image)[0]"
   ]
  },
  {
   "cell_type": "code",
   "execution_count": 70,
   "id": "4a51aaca-c1f4-4e7e-9ddf-1b5344b07d0f",
   "metadata": {},
   "outputs": [],
   "source": [
    "#load the sample images and get the 128 face embeddings from them\n",
    "ayah_image = face_recognition.load_image_file('ayah.jpg')\n",
    "ayah_face_encodings = face_recognition.face_encodings(ayah_image)[0]"
   ]
  },
  {
   "cell_type": "code",
   "execution_count": 71,
   "id": "3b2e3088-b85c-4517-9043-ccabf85b0c6c",
   "metadata": {},
   "outputs": [],
   "source": [
    "#save the encodings and the corresponding labels in seperate arrays in the same order\n",
    "known_face_encodings = [lendi_face_encodings]\n",
    "known_face_names = [\"lendi prastyo nim: 562020120036\", \"ayah\"]"
   ]
  },
  {
   "cell_type": "code",
   "execution_count": 72,
   "id": "fac91134-c6b2-44d2-8865-3acfc87816ef",
   "metadata": {},
   "outputs": [],
   "source": [
    "#load the unknown image to recognize faces in it\n",
    "image_to_recognize = face_recognition.load_image_file('keluarga.jpg')"
   ]
  },
  {
   "cell_type": "code",
   "execution_count": 73,
   "id": "ebf9a11f-4d76-480e-a916-b4f1889744f6",
   "metadata": {},
   "outputs": [],
   "source": [
    "#detect all faces in the image\n",
    "#arguments are image,no_of_times_to_upsample, model\n",
    "all_face_locations = face_recognition.face_locations(image_to_recognize,model='hog')\n",
    "#detect face encodings for all the faces detected\n",
    "all_face_encodings = face_recognition.face_encodings(image_to_recognize,all_face_locations)"
   ]
  },
  {
   "cell_type": "code",
   "execution_count": 74,
   "id": "cb6828e6-a17d-4009-988c-e6b839bea2d1",
   "metadata": {},
   "outputs": [
    {
     "name": "stdout",
     "output_type": "stream",
     "text": [
      "There are 4 no of faces in this image\n"
     ]
    }
   ],
   "source": [
    "#print the number of faces detected\n",
    "print('There are {} no of faces in this image'.format(len(all_face_locations)))"
   ]
  },
  {
   "cell_type": "code",
   "execution_count": 75,
   "id": "253c3191-a4fd-4b8a-81f6-57b010eb9368",
   "metadata": {},
   "outputs": [
    {
     "data": {
      "text/plain": [
       "-1"
      ]
     },
     "execution_count": 75,
     "metadata": {},
     "output_type": "execute_result"
    }
   ],
   "source": [
    "#looping through the face locations and the face embeddings\n",
    "for current_face_location,current_face_encoding in zip(all_face_locations,all_face_encodings):\n",
    "    #splitting the tuple to get the four position values of current face\n",
    "    top_pos,right_pos,bottom_pos,left_pos = current_face_location\n",
    "    \n",
    "    \n",
    "    #find all the matches and get the list of matches\n",
    "    all_matches = face_recognition.compare_faces(known_face_encodings, current_face_encoding)\n",
    "   \n",
    "    #string to hold the label\n",
    "    name_of_person = 'Unknown face'\n",
    "    \n",
    "    #check if the all_matches have at least one item\n",
    "    #if yes, get the index number of face that is located in the first index of all_matches\n",
    "    #get the name corresponding to the index number and save it in name_of_person\n",
    "    if True in all_matches:\n",
    "        first_match_index = all_matches.index(True)\n",
    "        name_of_person = known_face_names[first_match_index]\n",
    "            \n",
    "    #draw rectangle around the face    \n",
    "    cv2.rectangle(original_image,(left_pos,top_pos),(right_pos,bottom_pos),(255,0,0),2)\n",
    "    \n",
    "    #display the name as text in the image\n",
    "    font = cv2.FONT_HERSHEY_DUPLEX\n",
    "    cv2.putText(original_image, name_of_person, (left_pos,bottom_pos), font, 0.5, (255,255,255),1)\n",
    "    \n",
    "    #display the image\n",
    "    cv2.imshow(\"Faces Identified\",original_image)\n",
    "cv2.waitKey(0); cv2.destroyAllWindows(); cv2.waitKey(1)\n"
   ]
  },
  {
   "cell_type": "code",
   "execution_count": null,
   "id": "32f33403-4b47-4e0a-8e42-e1bdb3b6b1c7",
   "metadata": {},
   "outputs": [],
   "source": []
  }
 ],
 "metadata": {
  "kernelspec": {
   "display_name": "Python 3 (ipykernel)",
   "language": "python",
   "name": "python3"
  },
  "language_info": {
   "codemirror_mode": {
    "name": "ipython",
    "version": 3
   },
   "file_extension": ".py",
   "mimetype": "text/x-python",
   "name": "python",
   "nbconvert_exporter": "python",
   "pygments_lexer": "ipython3",
   "version": "3.9.10"
  }
 },
 "nbformat": 4,
 "nbformat_minor": 5
}
