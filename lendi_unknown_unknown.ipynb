{
 "cells": [
  {
   "cell_type": "code",
   "execution_count": 110,
   "id": "9d07febe-79af-43bc-b9d0-9c92c3c53194",
   "metadata": {},
   "outputs": [],
   "source": [
    "#importing the required libraries\n",
    "import cv2\n",
    "import face_recognition"
   ]
  },
  {
   "cell_type": "code",
   "execution_count": 111,
   "id": "58536d4f-014f-44ac-83e3-6a76aadcbeb3",
   "metadata": {},
   "outputs": [],
   "source": [
    "#loading the image to detect\n",
    "original_image = cv2.imread('keluarga2.jpeg')"
   ]
  },
  {
   "cell_type": "code",
   "execution_count": 112,
   "id": "2c1f771d-4798-4be4-85f4-8f869a4ecf73",
   "metadata": {},
   "outputs": [],
   "source": [
    "#load the sample images and get the 128 face embeddings from them\n",
    "len_image = face_recognition.load_image_file('len.jpg')\n",
    "len_face_encodings = face_recognition.face_encodings(len_image)[0]"
   ]
  },
  {
   "cell_type": "code",
   "execution_count": 113,
   "id": "716cf8fe-a69b-48f4-a70d-69ac32062596",
   "metadata": {},
   "outputs": [],
   "source": [
    "#load the sample images and get the 128 face embeddings from them\n",
    "tis_image = face_recognition.load_image_file('tis.jpg')\n",
    "tis_face_encodings = face_recognition.face_encodings(tis_image)[0]"
   ]
  },
  {
   "cell_type": "code",
   "execution_count": 114,
   "id": "a2eb0927-e95e-40fc-a11a-45dde7e4155d",
   "metadata": {},
   "outputs": [],
   "source": [
    "#save the encodings and the corresponding labels in seperate arrays in the same order\n",
    "known_face_encodings = [one_face_encodings]\n",
    "known_face_names = [\"lendi prastyo nim: 562020120036\", \"tis\"]"
   ]
  },
  {
   "cell_type": "code",
   "execution_count": 115,
   "id": "d284c4e6-48f7-45e3-a9a7-e9c84d37abac",
   "metadata": {},
   "outputs": [],
   "source": [
    "#load the unknown image to recognize faces in it\n",
    "image_to_recognize = face_recognition.load_image_file('keluarga2.jpeg')"
   ]
  },
  {
   "cell_type": "code",
   "execution_count": 116,
   "id": "d92e176a-c603-40e3-8cac-222b1c7b3ec7",
   "metadata": {},
   "outputs": [],
   "source": [
    "#detect all faces in the image\n",
    "#arguments are image,no_of_times_to_upsample, model\n",
    "all_face_locations = face_recognition.face_locations(image_to_recognize,model='hog')\n",
    "#detect face encodings for all the faces detected\n",
    "all_face_encodings = face_recognition.face_encodings(image_to_recognize,all_face_locations)"
   ]
  },
  {
   "cell_type": "code",
   "execution_count": 117,
   "id": "2b29e90d-fbe0-4d2d-b0c0-c314fa3aca1d",
   "metadata": {},
   "outputs": [
    {
     "name": "stdout",
     "output_type": "stream",
     "text": [
      "There are 4 no of faces in this image\n"
     ]
    }
   ],
   "source": [
    "#print the number of faces detected\n",
    "print('There are {} no of faces in this image'.format(len(all_face_locations)))"
   ]
  },
  {
   "cell_type": "code",
   "execution_count": 118,
   "id": "229441ec-e79b-43a0-908f-e00a35bd726d",
   "metadata": {},
   "outputs": [
    {
     "data": {
      "text/plain": [
       "-1"
      ]
     },
     "execution_count": 118,
     "metadata": {},
     "output_type": "execute_result"
    }
   ],
   "source": [
    "#looping through the face locations and the face embeddings\n",
    "for current_face_location,current_face_encoding in zip(all_face_locations,all_face_encodings):\n",
    "    #splitting the tuple to get the four position values of current face\n",
    "    top_pos,right_pos,bottom_pos,left_pos = current_face_location\n",
    "    \n",
    "    \n",
    "    #find all the matches and get the list of matches\n",
    "    all_matches = face_recognition.compare_faces(known_face_encodings, current_face_encoding)\n",
    "   \n",
    "    #string to hold the label\n",
    "    name_of_person = 'Unknown face'\n",
    "    \n",
    "    #check if the all_matches have at least one item\n",
    "    #if yes, get the index number of face that is located in the first index of all_matches\n",
    "    #get the name corresponding to the index number and save it in name_of_person\n",
    "    if True in all_matches:\n",
    "        first_match_index = all_matches.index(True)\n",
    "        name_of_person = known_face_names[first_match_index]\n",
    "            \n",
    "    #draw rectangle around the face    \n",
    "    cv2.rectangle(original_image,(left_pos,top_pos),(right_pos,bottom_pos),(255,0,0),2)\n",
    "    \n",
    "    #display the name as text in the image\n",
    "    font = cv2.FONT_HERSHEY_DUPLEX\n",
    "    cv2.putText(original_image, name_of_person, (left_pos,bottom_pos), font, 0.5, (255,255,255),1)\n",
    "    \n",
    "    #display the image\n",
    "    cv2.imshow(\"Faces Identified\",original_image)\n",
    "cv2.waitKey(0); cv2.destroyAllWindows(); cv2.waitKey(1)\n"
   ]
  },
  {
   "cell_type": "code",
   "execution_count": null,
   "id": "e8c4dfa8-27bd-44dd-9279-83af2b0fa7b7",
   "metadata": {},
   "outputs": [],
   "source": []
  }
 ],
 "metadata": {
  "kernelspec": {
   "display_name": "Python 3 (ipykernel)",
   "language": "python",
   "name": "python3"
  },
  "language_info": {
   "codemirror_mode": {
    "name": "ipython",
    "version": 3
   },
   "file_extension": ".py",
   "mimetype": "text/x-python",
   "name": "python",
   "nbconvert_exporter": "python",
   "pygments_lexer": "ipython3",
   "version": "3.9.10"
  }
 },
 "nbformat": 4,
 "nbformat_minor": 5
}
